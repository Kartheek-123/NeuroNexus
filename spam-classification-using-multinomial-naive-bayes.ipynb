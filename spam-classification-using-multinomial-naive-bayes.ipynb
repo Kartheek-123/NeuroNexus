{
 "cells": [
  {
   "cell_type": "markdown",
   "metadata": {
    "_cell_guid": "b1076dfc-b9ad-4769-8c92-a6c4dae69d19",
    "_uuid": "8f2839f25d086af736a60e9eeb907d3b93b6e0e5"
   },
   "source": [
    "# Spam classification using multinomial naive bayes\n",
    "\n",
    "### Structure\n",
    "- Import libraries\n",
    "- Load and prepare the Dataset\n",
    "- Explore the Data\n",
    "- Text (Message) analytics\n",
    "- Transform data for model (CountVectorizer)\n",
    "- Classification/Predictive Analytics (multinomial naive bayes)\n",
    "- R2-Score and Confusion matrix"
   ]
  },
  {
   "cell_type": "markdown",
   "metadata": {
    "_cell_guid": "79c7e3d0-c299-4dcb-8224-4455121ee9b0",
    "_uuid": "d629ff2d2480ee46fbb7e2d37f6b5fab8052498a"
   },
   "source": [
    "### Import libraries"
   ]
  },
  {
   "cell_type": "code",
   "execution_count": 1,
   "metadata": {
    "_uuid": "1fd7db828c733eaa581bfe06022e417a59b4c020",
    "execution": {
     "iopub.execute_input": "2023-11-01T04:40:17.960680Z",
     "iopub.status.busy": "2023-11-01T04:40:17.960320Z",
     "iopub.status.idle": "2023-11-01T04:40:19.436896Z",
     "shell.execute_reply": "2023-11-01T04:40:19.435866Z",
     "shell.execute_reply.started": "2023-11-01T04:40:17.960614Z"
    }
   },
   "outputs": [],
   "source": [
    "import pandas as pd\n",
    "import matplotlib.pyplot as plt\n",
    "import seaborn as sns\n",
    "import itertools\n",
    "from collections import Counter\n",
    "from sklearn.model_selection import train_test_split\n",
    "from sklearn.metrics import confusion_matrix\n",
    "from sklearn.feature_extraction.text import CountVectorizer\n",
    "from sklearn.naive_bayes import MultinomialNB"
   ]
  },
  {
   "cell_type": "markdown",
   "metadata": {
    "_uuid": "bce5c390a640e2c57daa02540e08ffae7bacada8"
   },
   "source": [
    "### Load Dataset\n",
    "- deleted unnecessary columns\n",
    "- renamed column names to clearer names (category, message)"
   ]
  },
  {
   "cell_type": "code",
   "execution_count": 2,
   "metadata": {
    "_uuid": "1aea1fb6f64ac9533b37474f496314f75c6c6fcf",
    "execution": {
     "iopub.execute_input": "2023-11-01T04:40:21.943184Z",
     "iopub.status.busy": "2023-11-01T04:40:21.942768Z",
     "iopub.status.idle": "2023-11-01T04:40:21.988063Z",
     "shell.execute_reply": "2023-11-01T04:40:21.987196Z",
     "shell.execute_reply.started": "2023-11-01T04:40:21.943120Z"
    }
   },
   "outputs": [],
   "source": [
    "df = pd.read_csv(\"../input/spam.csv\", encoding = \"latin-1\", usecols=[\"v1\", \"v2\"])\n",
    "df.columns = [\"label\", \"message\"]"
   ]
  },
  {
   "cell_type": "markdown",
   "metadata": {
    "_uuid": "6ed5d9ab6074960c94f9797bba2424be933d6615"
   },
   "source": [
    "### Exploratory Data Analysis\n",
    "\n",
    "- general informations about data (volume, dtypes)\n",
    "- display first 5 entries\n",
    "- visualize distribution of spam and ham (no-spam)"
   ]
  },
  {
   "cell_type": "code",
   "execution_count": 3,
   "metadata": {
    "_uuid": "73157b73f265e049912f9bd240a96329242b6e8f",
    "execution": {
     "iopub.execute_input": "2023-11-01T04:40:24.006345Z",
     "iopub.status.busy": "2023-11-01T04:40:24.005995Z",
     "iopub.status.idle": "2023-11-01T04:40:24.022215Z",
     "shell.execute_reply": "2023-11-01T04:40:24.021404Z",
     "shell.execute_reply.started": "2023-11-01T04:40:24.006291Z"
    }
   },
   "outputs": [
    {
     "name": "stdout",
     "output_type": "stream",
     "text": [
      "<class 'pandas.core.frame.DataFrame'>\n",
      "RangeIndex: 5572 entries, 0 to 5571\n",
      "Data columns (total 2 columns):\n",
      "label      5572 non-null object\n",
      "message    5572 non-null object\n",
      "dtypes: object(2)\n",
      "memory usage: 87.1+ KB\n"
     ]
    }
   ],
   "source": [
    "df.info()"
   ]
  },
  {
   "cell_type": "code",
   "execution_count": 4,
   "metadata": {
    "_uuid": "6d8a7044e6cd3d4650aea7ffd04bbe328a6645b1",
    "execution": {
     "iopub.execute_input": "2023-11-01T04:40:25.789383Z",
     "iopub.status.busy": "2023-11-01T04:40:25.789088Z",
     "iopub.status.idle": "2023-11-01T04:40:25.806181Z",
     "shell.execute_reply": "2023-11-01T04:40:25.805326Z",
     "shell.execute_reply.started": "2023-11-01T04:40:25.789341Z"
    }
   },
   "outputs": [
    {
     "data": {
      "text/html": [
       "<div>\n",
       "<style scoped>\n",
       "    .dataframe tbody tr th:only-of-type {\n",
       "        vertical-align: middle;\n",
       "    }\n",
       "\n",
       "    .dataframe tbody tr th {\n",
       "        vertical-align: top;\n",
       "    }\n",
       "\n",
       "    .dataframe thead th {\n",
       "        text-align: right;\n",
       "    }\n",
       "</style>\n",
       "<table border=\"1\" class=\"dataframe\">\n",
       "  <thead>\n",
       "    <tr style=\"text-align: right;\">\n",
       "      <th></th>\n",
       "      <th>label</th>\n",
       "      <th>message</th>\n",
       "    </tr>\n",
       "  </thead>\n",
       "  <tbody>\n",
       "    <tr>\n",
       "      <th>0</th>\n",
       "      <td>ham</td>\n",
       "      <td>Go until jurong point, crazy.. Available only ...</td>\n",
       "    </tr>\n",
       "    <tr>\n",
       "      <th>1</th>\n",
       "      <td>ham</td>\n",
       "      <td>Ok lar... Joking wif u oni...</td>\n",
       "    </tr>\n",
       "    <tr>\n",
       "      <th>2</th>\n",
       "      <td>spam</td>\n",
       "      <td>Free entry in 2 a wkly comp to win FA Cup fina...</td>\n",
       "    </tr>\n",
       "    <tr>\n",
       "      <th>3</th>\n",
       "      <td>ham</td>\n",
       "      <td>U dun say so early hor... U c already then say...</td>\n",
       "    </tr>\n",
       "    <tr>\n",
       "      <th>4</th>\n",
       "      <td>ham</td>\n",
       "      <td>Nah I don't think he goes to usf, he lives aro...</td>\n",
       "    </tr>\n",
       "  </tbody>\n",
       "</table>\n",
       "</div>"
      ],
      "text/plain": [
       "  label                                            message\n",
       "0   ham  Go until jurong point, crazy.. Available only ...\n",
       "1   ham                      Ok lar... Joking wif u oni...\n",
       "2  spam  Free entry in 2 a wkly comp to win FA Cup fina...\n",
       "3   ham  U dun say so early hor... U c already then say...\n",
       "4   ham  Nah I don't think he goes to usf, he lives aro..."
      ]
     },
     "execution_count": 4,
     "metadata": {},
     "output_type": "execute_result"
    }
   ],
   "source": [
    "df.head()"
   ]
  },
  {
   "cell_type": "code",
   "execution_count": 5,
   "metadata": {
    "_uuid": "1470aef692f977234a1f9d4d768de6b40c3c29dd",
    "execution": {
     "iopub.execute_input": "2023-11-01T04:40:27.649551Z",
     "iopub.status.busy": "2023-11-01T04:40:27.649078Z",
     "iopub.status.idle": "2023-11-01T04:40:27.889090Z",
     "shell.execute_reply": "2023-11-01T04:40:27.887983Z",
     "shell.execute_reply.started": "2023-11-01T04:40:27.649496Z"
    }
   },
   "outputs": [
    {
     "data": {
      "image/png": "[encoded data removed]",
      "text/plain": [
       "<Figure size 432x288 with 1 Axes>"
      ]
     },
     "metadata": {},
     "output_type": "display_data"
    }
   ],
   "source": [
    "sns.set()\n",
    "sns.countplot(data = df, x= df[\"label\"]).set_title(\"Amount of spam and no-spam messages\", fontweight = \"bold\")\n",
    "plt.show()"
   ]
  },
  {
   "cell_type": "markdown",
   "metadata": {
    "_uuid": "95c4580ee45852bcecf6eef77bf3aa3c5efdc083"
   },
   "source": [
    "### Text (Message) Analytics\n",
    "\n",
    "- Filter Top 15 and Bottom 15 words and the number of their occurences\n",
    "- Visualize Top 15 and Bottom 15 spam/no spam words\n",
    "\n",
    "**Conclusion**\n",
    "\n",
    "Top 15 spam and no spam words have many similarities as both of them represent common words that are used in many messages, wether it being spam or no spam (ham). \n",
    "\n",
    "Same goes for Bottom 15 spam and no spam words. Both include uncommon words that occur only once and are thus not relevant for the classification model and should not be fitted as training data for the classifier to avoid overfitting."
   ]
  },
  {
   "cell_type": "code",
   "execution_count": 6,
   "metadata": {
    "_uuid": "9f816d63f452bf7454c55c8828e415ea8a4eadd3",
    "execution": {
     "iopub.execute_input": "2023-11-01T04:40:30.259559Z",
     "iopub.status.busy": "2023-11-01T04:40:30.259018Z",
     "iopub.status.idle": "2023-11-01T04:40:31.121832Z",
     "shell.execute_reply": "2023-11-01T04:40:31.120310Z",
     "shell.execute_reply.started": "2023-11-01T04:40:30.259506Z"
    }
   },
   "outputs": [
    {
     "data": {
      "image/png": "[encoded data removed]",
      "text/plain": [
       "<Figure size 432x288 with 1 Axes>"
      ]
     },
     "metadata": {},
     "output_type": "display_data"
    },
    {
     "data": {
      "image/png": "[encoded data removed]",
      "text/plain": [
       "<Figure size 432x288 with 1 Axes>"
      ]
     },
     "metadata": {},
     "output_type": "display_data"
    }
   ],
   "source": [
    "non_spam_messages = df[df[\"label\"]==\"ham\"][\"message\"] #filters non-spam (ham) messages\n",
    "l = [message.split() for message in non_spam_messages] #creates lists of words from each message\n",
    "no_spam_words = list(itertools.chain.from_iterable(l)) #concatenates all lists of words into one\n",
    "\n",
    "spam_messages = df[df[\"label\"]==\"spam\"][\"message\"] \n",
    "k = [message.split() for message in spam_messages]\n",
    "spam_words = list(itertools.chain.from_iterable(k))\n",
    "\n",
    "non_spam = Counter(no_spam_words) #creates dictionary with occurrences of each no_spam word\n",
    "spam = Counter(spam_words) #creates dictionary occurences of each spam word (creates dictionary)\n",
    "\n",
    "non_spam = sorted(non_spam.items(), key=lambda kv: kv[1], reverse=True) #creates list sorted descending by value (number of occurences) \n",
    "spam = sorted(spam.items(), key=lambda kv: kv[1], reverse=True) \n",
    "\n",
    "top15_spam = spam[:16]\n",
    "top15_nonspam = non_spam[:16]\n",
    "\n",
    "#slice word and occurences so I can easily plot them\n",
    "top_words_nonspam = [i[0] for i in top15_nonspam]  #(to,1530) [0]=to [1]=1530  \n",
    "top_occurences_nonspam = [i[1] for i in top15_nonspam]\n",
    "\n",
    "top_words_spam = [i[0] for i in top15_spam]       \n",
    "top_occurences_spam = [i[1] for i in top15_spam]\n",
    "\n",
    "plt.bar(top_words_nonspam, top_occurences_nonspam, color = 'green')\n",
    "plt.title(\"Top 15 non spam words\")\n",
    "plt.xticks(rotation='vertical')\n",
    "plt.show()\n",
    "\n",
    "plt.bar(top_words_spam, top_occurences_spam, color = \"red\")\n",
    "plt.title(\"Top 15 spam words\")\n",
    "plt.xticks(rotation='vertical')\n",
    "plt.show()"
   ]
  },
  {
   "cell_type": "markdown",
   "metadata": {
    "_uuid": "ca4fe7d6cc6ca613af80218ebc887bd816c721dd"
   },
   "source": [
    "### Transform data for Model (CountVectoriter)\n",
    "\n",
    "\n",
    "#### Use CountVectoriter to transform train and test date into a sparce matrix (based on train data)\n",
    "- Split data into Train and test data (75%/25%)\n",
    "- Train CountVectorizer with the train data so it can learn to vocabular and count how often a word as been used. This is needes as input Value for the multinomial naive bayes because it can't handle raw test_messages.\n",
    "- Transform train and test date into a sparce matrix (rowsxcolumns) which creates a new column for every word in the messages and counts how often they have been used in each message.\n",
    "\n",
    "Example:\n",
    "\n",
    "Message 1: random text text\n",
    "\n",
    "Message 2: another random text \n",
    "\n",
    "After transformation: 2x4 sparce matrix (type = integer) with 4 Stored elements in Compressed Sparse Row format (one element for each unique word)\n",
    "\n",
    "                                      Displayed as an Array: array([[0, 1, 2], \n",
    "                                                                    [1, 1, 1]] \n",
    "                              \n",
    "                              Message 1: another = 0x, random = 1x, text = 2x. \n",
    "                              Message 2: another = 1x, random = 1x, text = 1x.\n",
    "                              \n",
    "This means we will have thousands of columns, one for each word.  One of the strenghts of the (multinomial) naive bayes is that it can handle a lot of data. \n",
    "\n",
    "#### Filter non-relevant words\n",
    "\n",
    "- The CountVectoricer allows us to set a minimum and maximum occurence requirement, which allows us to filter out the non-relevant/harmful words (most common/uncommon) which I displayed in the Text (Message) Analytics. This will reduce the amount of columns we train our classifier with. We can use the parameters min_features and max_features to do this. To be sure all stop words are removed, I added the stop_words = 'english' parameter."
   ]
  },
  {
   "cell_type": "code",
   "execution_count": 7,
   "metadata": {
    "_uuid": "3fa0e0e19cc4e7bb55f00e7c003f7decfea2caf1",
    "execution": {
     "iopub.execute_input": "2023-11-01T05:25:44.570749Z",
     "iopub.status.busy": "2023-11-01T05:25:44.570381Z",
     "iopub.status.idle": "2023-11-01T05:25:44.814697Z",
     "shell.execute_reply": "2023-11-01T05:25:44.814073Z",
     "shell.execute_reply.started": "2023-11-01T05:25:44.570699Z"
    }
   },
   "outputs": [
    {
     "name": "stdout",
     "output_type": "stream",
     "text": [
      "  (0, 41)\t1\n",
      "  (0, 78)\t1\n",
      "  (1, 15)\t1\n",
      "  (1, 29)\t1\n",
      "  (1, 33)\t1\n",
      "  (1, 48)\t1\n",
      "  (1, 70)\t1\n",
      "  (1, 72)\t1\n",
      "  (2, 20)\t1\n",
      "  (3, 8)\t1\n",
      "  (3, 20)\t3\n",
      "  (3, 48)\t2\n",
      "  (3, 78)\t1\n",
      "  (3, 100)\t1\n",
      "  (4, 24)\t1\n",
      "  (4, 29)\t1\n",
      "  (4, 57)\t1\n",
      "  (4, 71)\t1\n",
      "  (4, 75)\t2\n",
      "  (4, 78)\t2\n",
      "  (6, 8)\t1\n",
      "  (6, 75)\t2\n",
      "  (6, 95)\t1\n",
      "  (7, 22)\t1\n",
      "  (7, 53)\t1\n",
      "  :\t:\n",
      "  (4169, 81)\t1\n",
      "  (4170, 13)\t2\n",
      "  (4171, 17)\t1\n",
      "  (4171, 76)\t1\n",
      "  (4172, 41)\t1\n",
      "  (4172, 59)\t1\n",
      "  (4173, 63)\t1\n",
      "  (4174, 25)\t1\n",
      "  (4174, 45)\t1\n",
      "  (4175, 20)\t3\n",
      "  (4175, 51)\t1\n",
      "  (4175, 56)\t1\n",
      "  (4175, 61)\t1\n",
      "  (4175, 67)\t1\n",
      "  (4175, 92)\t1\n",
      "  (4176, 30)\t1\n",
      "  (4176, 35)\t1\n",
      "  (4176, 40)\t1\n",
      "  (4176, 67)\t1\n",
      "  (4176, 93)\t1\n",
      "  (4176, 103)\t1\n",
      "  (4177, 40)\t1\n",
      "  (4177, 42)\t1\n",
      "  (4177, 101)\t1\n",
      "  (4178, 77)\t1\n",
      "  (0, 9)\t1\n",
      "  (0, 33)\t1\n",
      "  (0, 36)\t1\n",
      "  (2, 10)\t1\n",
      "  (2, 72)\t1\n",
      "  (2, 81)\t1\n",
      "  (3, 14)\t1\n",
      "  (3, 48)\t1\n",
      "  (3, 87)\t1\n",
      "  (3, 93)\t1\n",
      "  (4, 41)\t1\n",
      "  (5, 17)\t1\n",
      "  (5, 39)\t1\n",
      "  (5, 44)\t1\n",
      "  (6, 20)\t1\n",
      "  (7, 28)\t1\n",
      "  (7, 35)\t1\n",
      "  (7, 55)\t1\n",
      "  (8, 21)\t1\n",
      "  (8, 28)\t1\n",
      "  (9, 20)\t1\n",
      "  (9, 67)\t1\n",
      "  (10, 22)\t1\n",
      "  (11, 4)\t1\n",
      "  (11, 13)\t1\n",
      "  :\t:\n",
      "  (1381, 74)\t2\n",
      "  (1381, 87)\t1\n",
      "  (1382, 92)\t1\n",
      "  (1383, 12)\t1\n",
      "  (1384, 1)\t1\n",
      "  (1384, 20)\t1\n",
      "  (1384, 71)\t1\n",
      "  (1384, 97)\t1\n",
      "  (1384, 98)\t1\n",
      "  (1385, 33)\t1\n",
      "  (1385, 40)\t1\n",
      "  (1385, 94)\t2\n",
      "  (1386, 33)\t1\n",
      "  (1386, 51)\t1\n",
      "  (1386, 95)\t1\n",
      "  (1387, 22)\t1\n",
      "  (1388, 12)\t1\n",
      "  (1389, 48)\t1\n",
      "  (1390, 77)\t1\n",
      "  (1390, 82)\t1\n",
      "  (1392, 0)\t1\n",
      "  (1392, 7)\t1\n",
      "  (1392, 54)\t1\n",
      "  (1392, 60)\t1\n",
      "  (1392, 85)\t1\n"
     ]
    }
   ],
   "source": [
    "X = df[\"message\"]\n",
    "y = df[\"label\"]\n",
    "\n",
    "X_train, X_test, y_train, y_test = train_test_split(X, y, random_state = 0, test_size = 0.25)\n",
    "\n",
    "cv = CountVectorizer(min_df = 0.01, max_df = 0.95, stop_words = 'english') #1% / 300 occurences \n",
    "cv.fit(X_train)\n",
    "\n",
    "X_train = cv.transform(X_train)\n",
    "X_test = cv.transform(X_test)\n",
    "print(X_train)\n",
    "print(X_test)"
   ]
  },
  {
   "cell_type": "code",
   "execution_count": 8,
   "metadata": {
    "_uuid": "4e69f6e947e23c6cd9c6d81c37700ec509314b13",
    "execution": {
     "iopub.execute_input": "2023-11-01T04:41:31.198109Z",
     "iopub.status.busy": "2023-11-01T04:41:31.197743Z",
     "iopub.status.idle": "2023-11-01T04:41:31.233638Z",
     "shell.execute_reply": "2023-11-01T04:41:31.232528Z",
     "shell.execute_reply.started": "2023-11-01T04:41:31.198056Z"
    }
   },
   "outputs": [
    {
     "name": "stdout",
     "output_type": "stream",
     "text": [
      "0.9447236180904522\n"
     ]
    }
   ],
   "source": [
    "model = MultinomialNB()\n",
    "model.fit(X_train, y_train)\n",
    "\n",
    "print(model.score(X_test, y_test))"
   ]
  },
  {
   "cell_type": "markdown",
   "metadata": {
    "_uuid": "62c5e77cae41a49e8c41a6a904352a0a78d9425a"
   },
   "source": [
    "### Confusion-Matrix\n",
    "\n",
    "Due to the fact that the already classified data we trained our model with is not very balanced (way more no-spam messages), we don't know if the  R2 score is reliable. With the Confusion matrix, we can evaluate the accuracy of the spam classification more clearer and see exactly where our multinomial naive Bayes has its errors.\n",
    "\n",
    "Format of Confusion-Matrix:\n",
    "\n",
    "| True ham | False spam\n",
    "| --- | --- |\n",
    "| False ham | True spam"
   ]
  },
  {
   "cell_type": "code",
   "execution_count": 9,
   "metadata": {
    "_uuid": "c199ab77c5b52cbeb2ac20080dc1ea9339ffbdae",
    "execution": {
     "iopub.execute_input": "2023-11-01T04:41:36.612216Z",
     "iopub.status.busy": "2023-11-01T04:41:36.611511Z",
     "iopub.status.idle": "2023-11-01T04:41:36.630367Z",
     "shell.execute_reply": "2023-11-01T04:41:36.629358Z",
     "shell.execute_reply.started": "2023-11-01T04:41:36.611908Z"
    }
   },
   "outputs": [
    {
     "data": {
      "text/plain": [
       "array([[1168,   28],\n",
       "       [  49,  148]])"
      ]
     },
     "execution_count": 9,
     "metadata": {},
     "output_type": "execute_result"
    }
   ],
   "source": [
    "y_test_pred = model.predict(X_test)\n",
    "confusion_matrix(y_test, y_test_pred)"
   ]
  },
  {
   "cell_type": "code",
   "execution_count": 10,
   "metadata": {
    "_uuid": "d68d27c3a69feff79b7b8bf7648497e4f06c2e0f",
    "execution": {
     "iopub.execute_input": "2023-11-01T04:42:42.104635Z",
     "iopub.status.busy": "2023-11-01T04:42:42.104265Z",
     "iopub.status.idle": "2023-11-01T04:42:42.113658Z",
     "shell.execute_reply": "2023-11-01T04:42:42.112618Z",
     "shell.execute_reply.started": "2023-11-01T04:42:42.104581Z"
    }
   },
   "outputs": [
    {
     "data": {
      "text/plain": [
       "'This message is spam!'"
      ]
     },
     "execution_count": 10,
     "metadata": {},
     "output_type": "execute_result"
    }
   ],
   "source": [
    "def classifier(message):\n",
    "    \n",
    "    transformed = cv.transform([message])\n",
    "    prediction =  model.predict(transformed)\n",
    "    \n",
    "    if prediction == \"ham\":\n",
    "        return \"This message is no spam!\"\n",
    "    else:\n",
    "        return \"This message is spam!\"\n",
    "    \n",
    "classifier(\"Free entry in 2 a wkly comp to win FA Cup fina...\")"
   ]
  },
  {
   "cell_type": "markdown",
   "metadata": {
    "_uuid": "a3ca90eab3e44b606951ca028c347c58f8ee3c8b"
   },
   "source": [
    "## Hyperparameter Tuning"
   ]
  },
  {
   "cell_type": "code",
   "execution_count": 11,
   "metadata": {
    "execution": {
     "iopub.execute_input": "2023-11-01T04:54:24.773007Z",
     "iopub.status.busy": "2023-11-01T04:54:24.772635Z",
     "iopub.status.idle": "2023-11-01T04:54:24.782969Z",
     "shell.execute_reply": "2023-11-01T04:54:24.781696Z",
     "shell.execute_reply.started": "2023-11-01T04:54:24.772955Z"
    }
   },
   "outputs": [
    {
     "name": "stdout",
     "output_type": "stream",
     "text": [
      "104\n",
      "104\n"
     ]
    }
   ],
   "source": [
    "# Print the first 10 features\n",
    "print(len(cv.get_feature_names()))\n",
    "\n",
    "# Print the first 5 vectors of the tfidf training data\n",
    "print(len(X_train.A[0]))"
   ]
  },
  {
   "cell_type": "code",
   "execution_count": 12,
   "metadata": {
    "execution": {
     "iopub.execute_input": "2023-11-01T05:29:35.926380Z",
     "iopub.status.busy": "2023-11-01T05:29:35.926065Z",
     "iopub.status.idle": "2023-11-01T05:29:35.998590Z",
     "shell.execute_reply": "2023-11-01T05:29:35.997886Z",
     "shell.execute_reply.started": "2023-11-01T05:29:35.926344Z"
    }
   },
   "outputs": [],
   "source": [
    "##########################\n",
    "# SAVE-LOAD using joblib #\n",
    "##########################\n",
    "import joblib\n",
    "\n",
    "# save\n",
    "joblib.dump(model, \"model.pkl\")\n",
    "joblib.dump(cv, \"vectorizer.pkl\")\n",
    "\n",
    "# load\n",
    "clf2 = joblib.load(\"model.pkl\")\n",
    "\n",
    "#clf2.predict(X[0:1])"
   ]
  },
  {
   "cell_type": "code",
   "execution_count": 13,
   "metadata": {
    "execution": {
     "iopub.execute_input": "2023-11-01T05:03:35.352754Z",
     "iopub.status.busy": "2023-11-01T05:03:35.352053Z",
     "iopub.status.idle": "2023-11-01T05:03:35.361727Z",
     "shell.execute_reply": "2023-11-01T05:03:35.360602Z",
     "shell.execute_reply.started": "2023-11-01T05:03:35.352561Z"
    }
   },
   "outputs": [
    {
     "data": {
      "text/plain": [
       "'This message is spam!'"
      ]
     },
     "execution_count": 13,
     "metadata": {},
     "output_type": "execute_result"
    }
   ],
   "source": [
    "def classifier(message):\n",
    "    \n",
    "    transformed = cv.transform([message])\n",
    "    prediction =  clf2.predict(transformed)\n",
    "    \n",
    "    if prediction == \"ham\":\n",
    "        return \"This message is no spam!\"\n",
    "    else:\n",
    "        return \"This message is spam!\"\n",
    "    \n",
    "classifier(\"Free entry in 2 a wkly comp to win FA Cup fina...\")"
   ]
  },
  {
   "cell_type": "code",
   "execution_count": null,
   "metadata": {},
   "outputs": [],
   "source": []
  }
 ],
 "metadata": {
  "kernelspec": {
   "display_name": "Python 3",
   "language": "python",
   "name": "python3"
  },
  "language_info": {
   "codemirror_mode": {
    "name": "ipython",
    "version": 3
   },
   "file_extension": ".py",
   "mimetype": "text/x-python",
   "name": "python",
   "nbconvert_exporter": "python",
   "pygments_lexer": "ipython3",
   "version": "3.6.6"
  }
 },
 "nbformat": 4,
 "nbformat_minor": 4
}
